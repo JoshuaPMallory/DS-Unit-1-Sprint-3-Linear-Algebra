{
  "nbformat": 4,
  "nbformat_minor": 0,
  "metadata": {
    "colab": {
      "name": "DS9_W3D2_Intermediate_Linear_Algebra_Assignment.ipynb",
      "provenance": [],
      "collapsed_sections": [],
      "include_colab_link": true
    },
    "kernelspec": {
      "name": "python3",
      "display_name": "Python 3"
    }
  },
  "cells": [
    {
      "cell_type": "markdown",
      "metadata": {
        "id": "view-in-github",
        "colab_type": "text"
      },
      "source": [
        "<a href=\"https://colab.research.google.com/github/JoshuaPMallory/DS-Unit-1-Sprint-3-Linear-Algebra/blob/master/module2-intermediate-linear-algebra/DS9_W3D2_Intermediate_Linear_Algebra_Assignment.ipynb\" target=\"_parent\"><img src=\"https://colab.research.google.com/assets/colab-badge.svg\" alt=\"Open In Colab\"/></a>"
      ]
    },
    {
      "cell_type": "markdown",
      "metadata": {
        "id": "GSNiYn8lr6nN",
        "colab_type": "text"
      },
      "source": [
        "# Statistics"
      ]
    },
    {
      "cell_type": "markdown",
      "metadata": {
        "id": "3d4izUhQvh2_",
        "colab_type": "text"
      },
      "source": [
        "## 1.1 Sales for the past week was the following amounts: [3505, 2400, 3027, 2798, 3700, 3250, 2689]. Without using library functions, what is the mean, variance, and standard deviation of sales from last week? (for extra bonus points, write your own function that can calculate these two values for any sized list)"
      ]
    },
    {
      "cell_type": "code",
      "metadata": {
        "id": "w1iZfYvBtEA1",
        "colab_type": "code",
        "colab": {
          "base_uri": "https://localhost:8080/",
          "height": 109
        },
        "outputId": "c2a70821-1c8a-43da-b5d8-9c30332bef3a"
      },
      "source": [
        "import numpy as np\n",
        "sales_last_week       = [3505, 2400, 3027, 2798, 3700, 3250, 2689]\n",
        "sales_last_week_array = np.array(sales_last_week)\n",
        "\n",
        "def mcs(numbers_array):\n",
        "    mean               = sum(numbers_array)/len(numbers_array)\n",
        "    numbers_array      = np.subtract(numbers_array, mean)\n",
        "    numbers_array      = np.square(numbers_array)\n",
        "    varience           = numbers_array/len(numbers_array)\n",
        "    standard_deveation = np.sqrt(varience)\n",
        "    \n",
        "    return mean, varience, standard_deveation\n",
        "\n",
        "mcs(sales_last_week_array)"
      ],
      "execution_count": 41,
      "outputs": [
        {
          "output_type": "execute_result",
          "data": {
            "text/plain": [
              "(3052.714285714286,\n",
              " array([29223.19533528, 60862.27696793,    94.4606414 ,  9268.48104956,\n",
              "        59854.11370262,  5560.2361516 , 18898.29737609]),\n",
              " array([170.94793165, 246.70281103,   9.71908645,  96.27295077,\n",
              "        244.65100389,  74.56699103, 137.47107833]))"
            ]
          },
          "metadata": {
            "tags": []
          },
          "execution_count": 41
        }
      ]
    },
    {
      "cell_type": "markdown",
      "metadata": {
        "id": "oh63KaOctEp_",
        "colab_type": "text"
      },
      "source": [
        "## 1.2 Find the covariance between last week's sales numbers and the number of customers that entered the store last week: [127, 80, 105, 92, 120, 115, 93] (you may use librray functions for calculating the covariance since we didn't specifically talk about its formula)"
      ]
    },
    {
      "cell_type": "code",
      "metadata": {
        "id": "G7ZB0krot564",
        "colab_type": "code",
        "colab": {
          "base_uri": "https://localhost:8080/",
          "height": 269
        },
        "outputId": "ce98a464-2c21-4937-9131-57e12bfa04fb"
      },
      "source": [
        "import pandas as pd\n",
        "\n",
        "customers_last_week = [127, 80, 105, 92, 120, 115, 93]\n",
        "customers_last_week_array = np.array(customers_last_week)\n",
        "\n",
        "df = pd.DataFrame(np.array([sales_last_week\n",
        "                           ,customers_last_week]))\n",
        "df.cov()"
      ],
      "execution_count": 42,
      "outputs": [
        {
          "output_type": "execute_result",
          "data": {
            "text/html": [
              "<div>\n",
              "<style scoped>\n",
              "    .dataframe tbody tr th:only-of-type {\n",
              "        vertical-align: middle;\n",
              "    }\n",
              "\n",
              "    .dataframe tbody tr th {\n",
              "        vertical-align: top;\n",
              "    }\n",
              "\n",
              "    .dataframe thead th {\n",
              "        text-align: right;\n",
              "    }\n",
              "</style>\n",
              "<table border=\"1\" class=\"dataframe\">\n",
              "  <thead>\n",
              "    <tr style=\"text-align: right;\">\n",
              "      <th></th>\n",
              "      <th>0</th>\n",
              "      <th>1</th>\n",
              "      <th>2</th>\n",
              "      <th>3</th>\n",
              "      <th>4</th>\n",
              "      <th>5</th>\n",
              "      <th>6</th>\n",
              "    </tr>\n",
              "  </thead>\n",
              "  <tbody>\n",
              "    <tr>\n",
              "      <th>0</th>\n",
              "      <td>5705442.0</td>\n",
              "      <td>3918480.0</td>\n",
              "      <td>4935258.0</td>\n",
              "      <td>4570434.0</td>\n",
              "      <td>6046620.0</td>\n",
              "      <td>5295015.0</td>\n",
              "      <td>4384644.0</td>\n",
              "    </tr>\n",
              "    <tr>\n",
              "      <th>1</th>\n",
              "      <td>3918480.0</td>\n",
              "      <td>2691200.0</td>\n",
              "      <td>3389520.0</td>\n",
              "      <td>3138960.0</td>\n",
              "      <td>4152800.0</td>\n",
              "      <td>3636600.0</td>\n",
              "      <td>3011360.0</td>\n",
              "    </tr>\n",
              "    <tr>\n",
              "      <th>2</th>\n",
              "      <td>4935258.0</td>\n",
              "      <td>3389520.0</td>\n",
              "      <td>4269042.0</td>\n",
              "      <td>3953466.0</td>\n",
              "      <td>5230380.0</td>\n",
              "      <td>4580235.0</td>\n",
              "      <td>3792756.0</td>\n",
              "    </tr>\n",
              "    <tr>\n",
              "      <th>3</th>\n",
              "      <td>4570434.0</td>\n",
              "      <td>3138960.0</td>\n",
              "      <td>3953466.0</td>\n",
              "      <td>3661218.0</td>\n",
              "      <td>4843740.0</td>\n",
              "      <td>4241655.0</td>\n",
              "      <td>3512388.0</td>\n",
              "    </tr>\n",
              "    <tr>\n",
              "      <th>4</th>\n",
              "      <td>6046620.0</td>\n",
              "      <td>4152800.0</td>\n",
              "      <td>5230380.0</td>\n",
              "      <td>4843740.0</td>\n",
              "      <td>6408200.0</td>\n",
              "      <td>5611650.0</td>\n",
              "      <td>4646840.0</td>\n",
              "    </tr>\n",
              "    <tr>\n",
              "      <th>5</th>\n",
              "      <td>5295015.0</td>\n",
              "      <td>3636600.0</td>\n",
              "      <td>4580235.0</td>\n",
              "      <td>4241655.0</td>\n",
              "      <td>5611650.0</td>\n",
              "      <td>4914112.5</td>\n",
              "      <td>4069230.0</td>\n",
              "    </tr>\n",
              "    <tr>\n",
              "      <th>6</th>\n",
              "      <td>4384644.0</td>\n",
              "      <td>3011360.0</td>\n",
              "      <td>3792756.0</td>\n",
              "      <td>3512388.0</td>\n",
              "      <td>4646840.0</td>\n",
              "      <td>4069230.0</td>\n",
              "      <td>3369608.0</td>\n",
              "    </tr>\n",
              "  </tbody>\n",
              "</table>\n",
              "</div>"
            ],
            "text/plain": [
              "           0          1          2          3          4          5          6\n",
              "0  5705442.0  3918480.0  4935258.0  4570434.0  6046620.0  5295015.0  4384644.0\n",
              "1  3918480.0  2691200.0  3389520.0  3138960.0  4152800.0  3636600.0  3011360.0\n",
              "2  4935258.0  3389520.0  4269042.0  3953466.0  5230380.0  4580235.0  3792756.0\n",
              "3  4570434.0  3138960.0  3953466.0  3661218.0  4843740.0  4241655.0  3512388.0\n",
              "4  6046620.0  4152800.0  5230380.0  4843740.0  6408200.0  5611650.0  4646840.0\n",
              "5  5295015.0  3636600.0  4580235.0  4241655.0  5611650.0  4914112.5  4069230.0\n",
              "6  4384644.0  3011360.0  3792756.0  3512388.0  4646840.0  4069230.0  3369608.0"
            ]
          },
          "metadata": {
            "tags": []
          },
          "execution_count": 42
        }
      ]
    },
    {
      "cell_type": "markdown",
      "metadata": {
        "id": "J9SbUY9mt66I",
        "colab_type": "text"
      },
      "source": [
        "## 1.3 Find the standard deviation of customers who entered the store last week. Then, use the standard deviations of both sales and customers to standardize the covariance to find the correlation coefficient that summarizes the relationship between sales and customers. (You may use library functions to check your work.)"
      ]
    },
    {
      "cell_type": "code",
      "metadata": {
        "id": "rUOIWuZMDXV-",
        "colab_type": "code",
        "colab": {}
      },
      "source": [
        "# Standard Deviation of both lists\n",
        "sales_last_week_std     = np.sqrt(sales_last_week_array)\n",
        "customers_last_week_std = np.sqrt(customers_last_week_array)"
      ],
      "execution_count": 0,
      "outputs": []
    },
    {
      "cell_type": "code",
      "metadata": {
        "id": "vFJms2YRrKhY",
        "colab_type": "code",
        "colab": {
          "base_uri": "https://localhost:8080/",
          "height": 269
        },
        "outputId": "740803d1-8aa2-48eb-c2c3-bb7f5eac357f"
      },
      "source": [
        "# Covariance\n",
        "df.cov()"
      ],
      "execution_count": 69,
      "outputs": [
        {
          "output_type": "execute_result",
          "data": {
            "text/html": [
              "<div>\n",
              "<style scoped>\n",
              "    .dataframe tbody tr th:only-of-type {\n",
              "        vertical-align: middle;\n",
              "    }\n",
              "\n",
              "    .dataframe tbody tr th {\n",
              "        vertical-align: top;\n",
              "    }\n",
              "\n",
              "    .dataframe thead th {\n",
              "        text-align: right;\n",
              "    }\n",
              "</style>\n",
              "<table border=\"1\" class=\"dataframe\">\n",
              "  <thead>\n",
              "    <tr style=\"text-align: right;\">\n",
              "      <th></th>\n",
              "      <th>0</th>\n",
              "      <th>1</th>\n",
              "      <th>2</th>\n",
              "      <th>3</th>\n",
              "      <th>4</th>\n",
              "      <th>5</th>\n",
              "      <th>6</th>\n",
              "    </tr>\n",
              "  </thead>\n",
              "  <tbody>\n",
              "    <tr>\n",
              "      <th>0</th>\n",
              "      <td>1148.815618</td>\n",
              "      <td>959.763295</td>\n",
              "      <td>1073.023355</td>\n",
              "      <td>1037.869647</td>\n",
              "      <td>1195.300709</td>\n",
              "      <td>1109.302818</td>\n",
              "      <td>1011.684864</td>\n",
              "    </tr>\n",
              "    <tr>\n",
              "      <th>1</th>\n",
              "      <td>959.763295</td>\n",
              "      <td>801.821954</td>\n",
              "      <td>896.443620</td>\n",
              "      <td>867.074905</td>\n",
              "      <td>998.598670</td>\n",
              "      <td>926.752833</td>\n",
              "      <td>845.199163</td>\n",
              "    </tr>\n",
              "    <tr>\n",
              "      <th>2</th>\n",
              "      <td>1073.023355</td>\n",
              "      <td>896.443620</td>\n",
              "      <td>1002.231430</td>\n",
              "      <td>969.396962</td>\n",
              "      <td>1116.441627</td>\n",
              "      <td>1036.117383</td>\n",
              "      <td>944.939701</td>\n",
              "    </tr>\n",
              "    <tr>\n",
              "      <th>3</th>\n",
              "      <td>1037.869647</td>\n",
              "      <td>867.074905</td>\n",
              "      <td>969.396962</td>\n",
              "      <td>937.638196</td>\n",
              "      <td>1079.865477</td>\n",
              "      <td>1002.172765</td>\n",
              "      <td>913.982188</td>\n",
              "    </tr>\n",
              "    <tr>\n",
              "      <th>4</th>\n",
              "      <td>1195.300709</td>\n",
              "      <td>998.598670</td>\n",
              "      <td>1116.441627</td>\n",
              "      <td>1079.865477</td>\n",
              "      <td>1243.666750</td>\n",
              "      <td>1154.189084</td>\n",
              "      <td>1052.621166</td>\n",
              "    </tr>\n",
              "    <tr>\n",
              "      <th>5</th>\n",
              "      <td>1109.302818</td>\n",
              "      <td>926.752833</td>\n",
              "      <td>1036.117383</td>\n",
              "      <td>1002.172765</td>\n",
              "      <td>1154.189084</td>\n",
              "      <td>1071.149037</td>\n",
              "      <td>976.888591</td>\n",
              "    </tr>\n",
              "    <tr>\n",
              "      <th>6</th>\n",
              "      <td>1011.684864</td>\n",
              "      <td>845.199163</td>\n",
              "      <td>944.939701</td>\n",
              "      <td>913.982188</td>\n",
              "      <td>1052.621166</td>\n",
              "      <td>976.888591</td>\n",
              "      <td>890.923006</td>\n",
              "    </tr>\n",
              "  </tbody>\n",
              "</table>\n",
              "</div>"
            ],
            "text/plain": [
              "             0           1            2  ...            4            5            6\n",
              "0  1148.815618  959.763295  1073.023355  ...  1195.300709  1109.302818  1011.684864\n",
              "1   959.763295  801.821954   896.443620  ...   998.598670   926.752833   845.199163\n",
              "2  1073.023355  896.443620  1002.231430  ...  1116.441627  1036.117383   944.939701\n",
              "3  1037.869647  867.074905   969.396962  ...  1079.865477  1002.172765   913.982188\n",
              "4  1195.300709  998.598670  1116.441627  ...  1243.666750  1154.189084  1052.621166\n",
              "5  1109.302818  926.752833  1036.117383  ...  1154.189084  1071.149037   976.888591\n",
              "6  1011.684864  845.199163   944.939701  ...  1052.621166   976.888591   890.923006\n",
              "\n",
              "[7 rows x 7 columns]"
            ]
          },
          "metadata": {
            "tags": []
          },
          "execution_count": 69
        }
      ]
    },
    {
      "cell_type": "markdown",
      "metadata": {
        "id": "gdup6t26EZ0o",
        "colab_type": "text"
      },
      "source": [
        "Correlation coefficient:\n",
        "\n",
        "\\begin{align}\n",
        "r = \\frac{cov(X,Y)}{\\sigma_{X}\\sigma_{Y}}\n",
        "\\end{align}\n",
        "\n",
        "Covarience for X and Y\n",
        "\n",
        "Divide that by standard deviation of X multiplied by the standard deviation of Y"
      ]
    },
    {
      "cell_type": "code",
      "metadata": {
        "id": "q2ZCAQBODbjw",
        "colab_type": "code",
        "colab": {
          "base_uri": "https://localhost:8080/",
          "height": 348
        },
        "outputId": "13a2c8f8-58e0-416d-f323-d8b5fba7cd1b"
      },
      "source": [
        "# Correlation coefficient\n",
        "print(df.cov()/(sales_last_week_std * customers_last_week_std), '\\n'\n",
        "     ,df.corr(), '\\n'\n",
        "     ,np.corrcoef(sales_last_week, customers_last_week))\n",
        "\n",
        "# I'm really not sure which of the three is right.\n",
        "# One gives a bunch of numbers over one,\n",
        "# another a wide group of only ones,\n",
        "# and the last is only a 2 x 2 matrix."
      ],
      "execution_count": 74,
      "outputs": [
        {
          "output_type": "stream",
          "text": [
            "          0         1         2         3         4         5         6\n",
            "0  1.721886  2.190350  1.903305  2.045620  1.793848  1.814511  2.023058\n",
            "1  1.438528  1.829900  1.590092  1.708987  1.498648  1.515910  1.690138\n",
            "2  1.608286  2.045843  1.777736  1.910662  1.675500  1.694800  1.889588\n",
            "3  1.555596  1.978819  1.719495  1.848066  1.620609  1.639276  1.827683\n",
            "4  1.791560  2.278979  1.980319  2.128393  1.866434  1.887932  2.104918\n",
            "5  1.662663  2.115014  1.837842  1.975263  1.732150  1.752102  1.953476\n",
            "6  1.516350  1.928894  1.676113  1.801441  1.579722  1.597918  1.781572 \n",
            "      0    1    2    3    4    5    6\n",
            "0  1.0  1.0  1.0  1.0  1.0  1.0  1.0\n",
            "1  1.0  1.0  1.0  1.0  1.0  1.0  1.0\n",
            "2  1.0  1.0  1.0  1.0  1.0  1.0  1.0\n",
            "3  1.0  1.0  1.0  1.0  1.0  1.0  1.0\n",
            "4  1.0  1.0  1.0  1.0  1.0  1.0  1.0\n",
            "5  1.0  1.0  1.0  1.0  1.0  1.0  1.0\n",
            "6  1.0  1.0  1.0  1.0  1.0  1.0  1.0 \n",
            " [[1.         0.96283398]\n",
            " [0.96283398 1.        ]]\n"
          ],
          "name": "stdout"
        }
      ]
    },
    {
      "cell_type": "markdown",
      "metadata": {
        "id": "IbZVf7nmujPJ",
        "colab_type": "text"
      },
      "source": [
        "## 1.4 Use pandas to import a cleaned version of the titanic dataset from the following link: [Titanic Dataset](https://raw.githubusercontent.com/Geoyi/Cleaning-Titanic-Data/master/titanic_clean.csv)\n",
        "\n",
        "## Calculate the variance-covariance matrix and correlation matrix for the titanic dataset's numeric columns. (you can encode some of the categorical variables and include them as a stretch goal if you finish early)"
      ]
    },
    {
      "cell_type": "code",
      "metadata": {
        "id": "0TWgUIiaCFzq",
        "colab_type": "code",
        "colab": {
          "base_uri": "https://localhost:8080/",
          "height": 206
        },
        "outputId": "0226c5b6-e62c-4f4f-fdc7-10aa6561e9e6"
      },
      "source": [
        "titanic_df        = pd.read_csv('https://raw.githubusercontent.com/Geoyi/Cleaning-Titanic-Data/master/titanic_clean.csv')\n",
        "titanic_df        = titanic_df.drop(['Unnamed: 0', 'name', 'ticket', 'cabin', 'embarked', 'boat', 'home.dest'], axis=1)\n",
        "titanic_df['sex'] = titanic_df['sex'].replace({'male': 1, 'female': 0})\n",
        "titanic_df.head()"
      ],
      "execution_count": 94,
      "outputs": [
        {
          "output_type": "execute_result",
          "data": {
            "text/html": [
              "<div>\n",
              "<style scoped>\n",
              "    .dataframe tbody tr th:only-of-type {\n",
              "        vertical-align: middle;\n",
              "    }\n",
              "\n",
              "    .dataframe tbody tr th {\n",
              "        vertical-align: top;\n",
              "    }\n",
              "\n",
              "    .dataframe thead th {\n",
              "        text-align: right;\n",
              "    }\n",
              "</style>\n",
              "<table border=\"1\" class=\"dataframe\">\n",
              "  <thead>\n",
              "    <tr style=\"text-align: right;\">\n",
              "      <th></th>\n",
              "      <th>pclass</th>\n",
              "      <th>survived</th>\n",
              "      <th>sex</th>\n",
              "      <th>age</th>\n",
              "      <th>sibsp</th>\n",
              "      <th>parch</th>\n",
              "      <th>fare</th>\n",
              "      <th>body</th>\n",
              "      <th>has_cabin_number</th>\n",
              "    </tr>\n",
              "  </thead>\n",
              "  <tbody>\n",
              "    <tr>\n",
              "      <th>0</th>\n",
              "      <td>1.0</td>\n",
              "      <td>1.0</td>\n",
              "      <td>0.0</td>\n",
              "      <td>29.0000</td>\n",
              "      <td>0.0</td>\n",
              "      <td>0.0</td>\n",
              "      <td>211.3375</td>\n",
              "      <td>NaN</td>\n",
              "      <td>1</td>\n",
              "    </tr>\n",
              "    <tr>\n",
              "      <th>1</th>\n",
              "      <td>1.0</td>\n",
              "      <td>1.0</td>\n",
              "      <td>1.0</td>\n",
              "      <td>0.9167</td>\n",
              "      <td>1.0</td>\n",
              "      <td>2.0</td>\n",
              "      <td>151.5500</td>\n",
              "      <td>NaN</td>\n",
              "      <td>1</td>\n",
              "    </tr>\n",
              "    <tr>\n",
              "      <th>2</th>\n",
              "      <td>1.0</td>\n",
              "      <td>0.0</td>\n",
              "      <td>0.0</td>\n",
              "      <td>2.0000</td>\n",
              "      <td>1.0</td>\n",
              "      <td>2.0</td>\n",
              "      <td>151.5500</td>\n",
              "      <td>NaN</td>\n",
              "      <td>1</td>\n",
              "    </tr>\n",
              "    <tr>\n",
              "      <th>3</th>\n",
              "      <td>1.0</td>\n",
              "      <td>0.0</td>\n",
              "      <td>1.0</td>\n",
              "      <td>30.0000</td>\n",
              "      <td>1.0</td>\n",
              "      <td>2.0</td>\n",
              "      <td>151.5500</td>\n",
              "      <td>135.0</td>\n",
              "      <td>1</td>\n",
              "    </tr>\n",
              "    <tr>\n",
              "      <th>4</th>\n",
              "      <td>1.0</td>\n",
              "      <td>0.0</td>\n",
              "      <td>0.0</td>\n",
              "      <td>25.0000</td>\n",
              "      <td>1.0</td>\n",
              "      <td>2.0</td>\n",
              "      <td>151.5500</td>\n",
              "      <td>NaN</td>\n",
              "      <td>1</td>\n",
              "    </tr>\n",
              "  </tbody>\n",
              "</table>\n",
              "</div>"
            ],
            "text/plain": [
              "   pclass  survived  sex      age  ...  parch      fare   body  has_cabin_number\n",
              "0     1.0       1.0  0.0  29.0000  ...    0.0  211.3375    NaN                 1\n",
              "1     1.0       1.0  1.0   0.9167  ...    2.0  151.5500    NaN                 1\n",
              "2     1.0       0.0  0.0   2.0000  ...    2.0  151.5500    NaN                 1\n",
              "3     1.0       0.0  1.0  30.0000  ...    2.0  151.5500  135.0                 1\n",
              "4     1.0       0.0  0.0  25.0000  ...    2.0  151.5500    NaN                 1\n",
              "\n",
              "[5 rows x 9 columns]"
            ]
          },
          "metadata": {
            "tags": []
          },
          "execution_count": 94
        }
      ]
    },
    {
      "cell_type": "code",
      "metadata": {
        "id": "7RkF_oBcKnhJ",
        "colab_type": "code",
        "colab": {
          "base_uri": "https://localhost:8080/",
          "height": 201
        },
        "outputId": "c82f76a2-71eb-4095-a49c-f626c4efa417"
      },
      "source": [
        "titanic_df.dtypes"
      ],
      "execution_count": 89,
      "outputs": [
        {
          "output_type": "execute_result",
          "data": {
            "text/plain": [
              "pclass              float64\n",
              "survived            float64\n",
              "sex                 float64\n",
              "age                 float64\n",
              "sibsp               float64\n",
              "parch               float64\n",
              "fare                float64\n",
              "body                float64\n",
              "has_cabin_number      int64\n",
              "dtype: object"
            ]
          },
          "metadata": {
            "tags": []
          },
          "execution_count": 89
        }
      ]
    },
    {
      "cell_type": "code",
      "metadata": {
        "id": "r7ItQdYD-iW1",
        "colab_type": "code",
        "colab": {
          "base_uri": "https://localhost:8080/",
          "height": 269
        },
        "outputId": "c354083f-7ffa-4d78-99f0-d773a9dc64b1"
      },
      "source": [
        "df.cov()"
      ],
      "execution_count": 95,
      "outputs": [
        {
          "output_type": "execute_result",
          "data": {
            "text/html": [
              "<div>\n",
              "<style scoped>\n",
              "    .dataframe tbody tr th:only-of-type {\n",
              "        vertical-align: middle;\n",
              "    }\n",
              "\n",
              "    .dataframe tbody tr th {\n",
              "        vertical-align: top;\n",
              "    }\n",
              "\n",
              "    .dataframe thead th {\n",
              "        text-align: right;\n",
              "    }\n",
              "</style>\n",
              "<table border=\"1\" class=\"dataframe\">\n",
              "  <thead>\n",
              "    <tr style=\"text-align: right;\">\n",
              "      <th></th>\n",
              "      <th>0</th>\n",
              "      <th>1</th>\n",
              "      <th>2</th>\n",
              "      <th>3</th>\n",
              "      <th>4</th>\n",
              "      <th>5</th>\n",
              "      <th>6</th>\n",
              "    </tr>\n",
              "  </thead>\n",
              "  <tbody>\n",
              "    <tr>\n",
              "      <th>0</th>\n",
              "      <td>1148.815618</td>\n",
              "      <td>959.763295</td>\n",
              "      <td>1073.023355</td>\n",
              "      <td>1037.869647</td>\n",
              "      <td>1195.300709</td>\n",
              "      <td>1109.302818</td>\n",
              "      <td>1011.684864</td>\n",
              "    </tr>\n",
              "    <tr>\n",
              "      <th>1</th>\n",
              "      <td>959.763295</td>\n",
              "      <td>801.821954</td>\n",
              "      <td>896.443620</td>\n",
              "      <td>867.074905</td>\n",
              "      <td>998.598670</td>\n",
              "      <td>926.752833</td>\n",
              "      <td>845.199163</td>\n",
              "    </tr>\n",
              "    <tr>\n",
              "      <th>2</th>\n",
              "      <td>1073.023355</td>\n",
              "      <td>896.443620</td>\n",
              "      <td>1002.231430</td>\n",
              "      <td>969.396962</td>\n",
              "      <td>1116.441627</td>\n",
              "      <td>1036.117383</td>\n",
              "      <td>944.939701</td>\n",
              "    </tr>\n",
              "    <tr>\n",
              "      <th>3</th>\n",
              "      <td>1037.869647</td>\n",
              "      <td>867.074905</td>\n",
              "      <td>969.396962</td>\n",
              "      <td>937.638196</td>\n",
              "      <td>1079.865477</td>\n",
              "      <td>1002.172765</td>\n",
              "      <td>913.982188</td>\n",
              "    </tr>\n",
              "    <tr>\n",
              "      <th>4</th>\n",
              "      <td>1195.300709</td>\n",
              "      <td>998.598670</td>\n",
              "      <td>1116.441627</td>\n",
              "      <td>1079.865477</td>\n",
              "      <td>1243.666750</td>\n",
              "      <td>1154.189084</td>\n",
              "      <td>1052.621166</td>\n",
              "    </tr>\n",
              "    <tr>\n",
              "      <th>5</th>\n",
              "      <td>1109.302818</td>\n",
              "      <td>926.752833</td>\n",
              "      <td>1036.117383</td>\n",
              "      <td>1002.172765</td>\n",
              "      <td>1154.189084</td>\n",
              "      <td>1071.149037</td>\n",
              "      <td>976.888591</td>\n",
              "    </tr>\n",
              "    <tr>\n",
              "      <th>6</th>\n",
              "      <td>1011.684864</td>\n",
              "      <td>845.199163</td>\n",
              "      <td>944.939701</td>\n",
              "      <td>913.982188</td>\n",
              "      <td>1052.621166</td>\n",
              "      <td>976.888591</td>\n",
              "      <td>890.923006</td>\n",
              "    </tr>\n",
              "  </tbody>\n",
              "</table>\n",
              "</div>"
            ],
            "text/plain": [
              "             0           1            2  ...            4            5            6\n",
              "0  1148.815618  959.763295  1073.023355  ...  1195.300709  1109.302818  1011.684864\n",
              "1   959.763295  801.821954   896.443620  ...   998.598670   926.752833   845.199163\n",
              "2  1073.023355  896.443620  1002.231430  ...  1116.441627  1036.117383   944.939701\n",
              "3  1037.869647  867.074905   969.396962  ...  1079.865477  1002.172765   913.982188\n",
              "4  1195.300709  998.598670  1116.441627  ...  1243.666750  1154.189084  1052.621166\n",
              "5  1109.302818  926.752833  1036.117383  ...  1154.189084  1071.149037   976.888591\n",
              "6  1011.684864  845.199163   944.939701  ...  1052.621166   976.888591   890.923006\n",
              "\n",
              "[7 rows x 7 columns]"
            ]
          },
          "metadata": {
            "tags": []
          },
          "execution_count": 95
        }
      ]
    },
    {
      "cell_type": "code",
      "metadata": {
        "id": "qCPl-QwMLtrZ",
        "colab_type": "code",
        "colab": {
          "base_uri": "https://localhost:8080/",
          "height": 269
        },
        "outputId": "cf898979-dc87-4210-86e6-e6f49edd239b"
      },
      "source": [
        "df.corr()"
      ],
      "execution_count": 96,
      "outputs": [
        {
          "output_type": "execute_result",
          "data": {
            "text/html": [
              "<div>\n",
              "<style scoped>\n",
              "    .dataframe tbody tr th:only-of-type {\n",
              "        vertical-align: middle;\n",
              "    }\n",
              "\n",
              "    .dataframe tbody tr th {\n",
              "        vertical-align: top;\n",
              "    }\n",
              "\n",
              "    .dataframe thead th {\n",
              "        text-align: right;\n",
              "    }\n",
              "</style>\n",
              "<table border=\"1\" class=\"dataframe\">\n",
              "  <thead>\n",
              "    <tr style=\"text-align: right;\">\n",
              "      <th></th>\n",
              "      <th>0</th>\n",
              "      <th>1</th>\n",
              "      <th>2</th>\n",
              "      <th>3</th>\n",
              "      <th>4</th>\n",
              "      <th>5</th>\n",
              "      <th>6</th>\n",
              "    </tr>\n",
              "  </thead>\n",
              "  <tbody>\n",
              "    <tr>\n",
              "      <th>0</th>\n",
              "      <td>1.0</td>\n",
              "      <td>1.0</td>\n",
              "      <td>1.0</td>\n",
              "      <td>1.0</td>\n",
              "      <td>1.0</td>\n",
              "      <td>1.0</td>\n",
              "      <td>1.0</td>\n",
              "    </tr>\n",
              "    <tr>\n",
              "      <th>1</th>\n",
              "      <td>1.0</td>\n",
              "      <td>1.0</td>\n",
              "      <td>1.0</td>\n",
              "      <td>1.0</td>\n",
              "      <td>1.0</td>\n",
              "      <td>1.0</td>\n",
              "      <td>1.0</td>\n",
              "    </tr>\n",
              "    <tr>\n",
              "      <th>2</th>\n",
              "      <td>1.0</td>\n",
              "      <td>1.0</td>\n",
              "      <td>1.0</td>\n",
              "      <td>1.0</td>\n",
              "      <td>1.0</td>\n",
              "      <td>1.0</td>\n",
              "      <td>1.0</td>\n",
              "    </tr>\n",
              "    <tr>\n",
              "      <th>3</th>\n",
              "      <td>1.0</td>\n",
              "      <td>1.0</td>\n",
              "      <td>1.0</td>\n",
              "      <td>1.0</td>\n",
              "      <td>1.0</td>\n",
              "      <td>1.0</td>\n",
              "      <td>1.0</td>\n",
              "    </tr>\n",
              "    <tr>\n",
              "      <th>4</th>\n",
              "      <td>1.0</td>\n",
              "      <td>1.0</td>\n",
              "      <td>1.0</td>\n",
              "      <td>1.0</td>\n",
              "      <td>1.0</td>\n",
              "      <td>1.0</td>\n",
              "      <td>1.0</td>\n",
              "    </tr>\n",
              "    <tr>\n",
              "      <th>5</th>\n",
              "      <td>1.0</td>\n",
              "      <td>1.0</td>\n",
              "      <td>1.0</td>\n",
              "      <td>1.0</td>\n",
              "      <td>1.0</td>\n",
              "      <td>1.0</td>\n",
              "      <td>1.0</td>\n",
              "    </tr>\n",
              "    <tr>\n",
              "      <th>6</th>\n",
              "      <td>1.0</td>\n",
              "      <td>1.0</td>\n",
              "      <td>1.0</td>\n",
              "      <td>1.0</td>\n",
              "      <td>1.0</td>\n",
              "      <td>1.0</td>\n",
              "      <td>1.0</td>\n",
              "    </tr>\n",
              "  </tbody>\n",
              "</table>\n",
              "</div>"
            ],
            "text/plain": [
              "     0    1    2    3    4    5    6\n",
              "0  1.0  1.0  1.0  1.0  1.0  1.0  1.0\n",
              "1  1.0  1.0  1.0  1.0  1.0  1.0  1.0\n",
              "2  1.0  1.0  1.0  1.0  1.0  1.0  1.0\n",
              "3  1.0  1.0  1.0  1.0  1.0  1.0  1.0\n",
              "4  1.0  1.0  1.0  1.0  1.0  1.0  1.0\n",
              "5  1.0  1.0  1.0  1.0  1.0  1.0  1.0\n",
              "6  1.0  1.0  1.0  1.0  1.0  1.0  1.0"
            ]
          },
          "metadata": {
            "tags": []
          },
          "execution_count": 96
        }
      ]
    },
    {
      "cell_type": "markdown",
      "metadata": {
        "id": "7K0Xfh8MvYkl",
        "colab_type": "text"
      },
      "source": [
        "# Orthogonality"
      ]
    },
    {
      "cell_type": "markdown",
      "metadata": {
        "id": "Pe3eOZ2fvdZ-",
        "colab_type": "text"
      },
      "source": [
        "## 2.1 Plot two vectors that are orthogonal to each other. What is a synonym for orthogonal?"
      ]
    },
    {
      "cell_type": "code",
      "metadata": {
        "id": "YLSBk7hJvvCx",
        "colab_type": "code",
        "colab": {}
      },
      "source": [
        "# Perpendicular\n",
        "v1 = np.array([1, 0])\n",
        "v2 = np.array([0, 1])"
      ],
      "execution_count": 0,
      "outputs": []
    },
    {
      "cell_type": "markdown",
      "metadata": {
        "id": "7AS4V1Nhvvxz",
        "colab_type": "text"
      },
      "source": [
        "## 2.2 Are the following vectors orthogonal? Why or why not?\n",
        "\n",
        "\\begin{align}\n",
        "a = \\begin{bmatrix} -5 \\\\ 3 \\\\ 7 \\end{bmatrix}\n",
        "\\qquad\n",
        "b = \\begin{bmatrix} 6 \\\\ -8 \\\\ 2 \\end{bmatrix}\n",
        "\\end{align}"
      ]
    },
    {
      "cell_type": "code",
      "metadata": {
        "id": "F_-y54YSz47k",
        "colab_type": "code",
        "colab": {
          "base_uri": "https://localhost:8080/",
          "height": 35
        },
        "outputId": "c98003ae-cb03-40c8-d4e5-3770024448a9"
      },
      "source": [
        "a = np.array([-5,  3, 7])\n",
        "b = np.array([ 6, -8, 2])\n",
        "\n",
        "np.dot(a, b)"
      ],
      "execution_count": 98,
      "outputs": [
        {
          "output_type": "execute_result",
          "data": {
            "text/plain": [
              "-40"
            ]
          },
          "metadata": {
            "tags": []
          },
          "execution_count": 98
        }
      ]
    },
    {
      "cell_type": "markdown",
      "metadata": {
        "id": "SmSOAGkJOcvC",
        "colab_type": "text"
      },
      "source": [
        "These two are not orthogonal because their dot product is not zero. These numbers don't cancel out as they would if they were perpendicular, in other words."
      ]
    },
    {
      "cell_type": "markdown",
      "metadata": {
        "id": "MiNjyqiEz5SG",
        "colab_type": "text"
      },
      "source": [
        "## 2.3 Compute the following values: What do these quantities have in common?\n",
        "\n",
        "## What is $||c||^2$? \n",
        "\n",
        "## What is $c \\cdot c$? \n",
        "\n",
        "## What is $c^{T}c$?\n",
        "\n",
        "\\begin{align}\n",
        "c = \\begin{bmatrix} 2 & -15 & 6 & 20 \\end{bmatrix}\n",
        "\\end{align}"
      ]
    },
    {
      "cell_type": "code",
      "metadata": {
        "id": "IlV_uaYK1EQB",
        "colab_type": "code",
        "colab": {
          "base_uri": "https://localhost:8080/",
          "height": 35
        },
        "outputId": "18530a98-503c-42fa-ae40-363cc04acef3"
      },
      "source": [
        "c = np.array([2, -15, 6, 20])\n",
        "\n",
        "# c norm squared\n",
        "np.linalg.norm(c)**2"
      ],
      "execution_count": 103,
      "outputs": [
        {
          "output_type": "execute_result",
          "data": {
            "text/plain": [
              "665.0"
            ]
          },
          "metadata": {
            "tags": []
          },
          "execution_count": 103
        }
      ]
    },
    {
      "cell_type": "code",
      "metadata": {
        "id": "9uHKkyllPKt9",
        "colab_type": "code",
        "colab": {
          "base_uri": "https://localhost:8080/",
          "height": 35
        },
        "outputId": "b4a26fe9-2681-4ff1-bf0b-bf7bd53376d2"
      },
      "source": [
        "# c dot c\n",
        "np.dot(c, c)"
      ],
      "execution_count": 113,
      "outputs": [
        {
          "output_type": "execute_result",
          "data": {
            "text/plain": [
              "array([665])"
            ]
          },
          "metadata": {
            "tags": []
          },
          "execution_count": 113
        }
      ]
    },
    {
      "cell_type": "code",
      "metadata": {
        "id": "h6DQ2E3SPLpN",
        "colab_type": "code",
        "colab": {
          "base_uri": "https://localhost:8080/",
          "height": 35
        },
        "outputId": "0e86e68e-1323-461a-cf63-80f4fdd1ad21"
      },
      "source": [
        "# c transposed times c\n",
        "c.T * c"
      ],
      "execution_count": 134,
      "outputs": [
        {
          "output_type": "execute_result",
          "data": {
            "text/plain": [
              "array([  4, 225,  36, 400])"
            ]
          },
          "metadata": {
            "tags": []
          },
          "execution_count": 134
        }
      ]
    },
    {
      "cell_type": "code",
      "metadata": {
        "id": "Igf-l6ryUNKf",
        "colab_type": "code",
        "colab": {}
      },
      "source": [
        "np.dot(c.T, c)\n",
        "# Is this what you meant? C.T and np.transpose(c) do nothing to a 1D array.\n",
        "# The only other option I can think of is to rebuild the array as a 2d array\n",
        "# column and run it against the original."
      ],
      "execution_count": 0,
      "outputs": []
    },
    {
      "cell_type": "code",
      "metadata": {
        "id": "e-SCT9awUgyE",
        "colab_type": "code",
        "colab": {
          "base_uri": "https://localhost:8080/",
          "height": 90
        },
        "outputId": "637e7859-5e72-449e-8479-42e5314e17ab"
      },
      "source": [
        "cT = np.array([[2]\n",
        "              ,[-15]\n",
        "              ,[6]\n",
        "              ,[20]\n",
        "              ])\n",
        "np.dot(cT, c[np.newaxis])\n",
        "# Next nearest solution I could think of, but it looks very wrong."
      ],
      "execution_count": 137,
      "outputs": [
        {
          "output_type": "execute_result",
          "data": {
            "text/plain": [
              "array([[   4,  -30,   12,   40],\n",
              "       [ -30,  225,  -90, -300],\n",
              "       [  12,  -90,   36,  120],\n",
              "       [  40, -300,  120,  400]])"
            ]
          },
          "metadata": {
            "tags": []
          },
          "execution_count": 137
        }
      ]
    },
    {
      "cell_type": "markdown",
      "metadata": {
        "id": "4OPjHZMZQUAm",
        "colab_type": "text"
      },
      "source": [
        "They all use c?\n",
        "\n",
        "I get the impression you wanted me to say they all came out to 665, but I don't see how you expect that to happen when trying to transpose a 1D array."
      ]
    },
    {
      "cell_type": "markdown",
      "metadata": {
        "id": "MK_TpWqk1Evk",
        "colab_type": "text"
      },
      "source": [
        "# Unit Vectors"
      ]
    },
    {
      "cell_type": "markdown",
      "metadata": {
        "id": "Kpit6WWO1b8l",
        "colab_type": "text"
      },
      "source": [
        "## 3.1 Using Latex, write the following vectors as a linear combination of scalars and unit vectors:\n",
        "\n",
        "\\begin{align}\n",
        "d = \\begin{bmatrix} 7 \\\\ 12 \\end{bmatrix}\n",
        "\\qquad\n",
        "e = \\begin{bmatrix} 2 \\\\ 11 \\\\ -8  \\end{bmatrix}\n",
        "\\end{align}"
      ]
    },
    {
      "cell_type": "markdown",
      "metadata": {
        "id": "Vx9_NJ5KcjRk",
        "colab_type": "text"
      },
      "source": [
        "\\begin{align}\n",
        "d = 7\\hat{i} + 12\\hat{j}\n",
        "\\qquad\n",
        "e = 2\\hat{i} + 11\\hat{j} - 8\\hat{k}\n",
        "\\end{align}"
      ]
    },
    {
      "cell_type": "markdown",
      "metadata": {
        "id": "dAdUQuep1_yJ",
        "colab_type": "text"
      },
      "source": [
        "## 3.2 Turn vector $f$ into a unit vector:\n",
        "\n",
        "\\begin{align}\n",
        "f = \\begin{bmatrix} 4 & 12 & 11 & 9 & 2 \\end{bmatrix}\n",
        "\\end{align}"
      ]
    },
    {
      "cell_type": "code",
      "metadata": {
        "id": "I3W8ZiHR1_Fa",
        "colab_type": "code",
        "colab": {
          "base_uri": "https://localhost:8080/",
          "height": 35
        },
        "outputId": "0818e12c-5207-4375-d237-157a03ae3238"
      },
      "source": [
        "f = np.array([4, 12, 11, 9, 2])\n",
        "f / np.linalg.norm(f)"
      ],
      "execution_count": 140,
      "outputs": [
        {
          "output_type": "execute_result",
          "data": {
            "text/plain": [
              "array([0.20908335, 0.62725005, 0.57497921, 0.47043754, 0.10454167])"
            ]
          },
          "metadata": {
            "tags": []
          },
          "execution_count": 140
        }
      ]
    },
    {
      "cell_type": "markdown",
      "metadata": {
        "id": "o39UyP-I5lpP",
        "colab_type": "text"
      },
      "source": [
        "# Linear Independence / Dependence "
      ]
    },
    {
      "cell_type": "markdown",
      "metadata": {
        "id": "ajfBqYe45sT5",
        "colab_type": "text"
      },
      "source": [
        "## 4.1 Plot two vectors that are linearly dependent and two vectors that are linearly independent (bonus points if done in $\\mathbb{R}^3$)."
      ]
    },
    {
      "cell_type": "code",
      "metadata": {
        "id": "IU08y2QTdk7G",
        "colab_type": "code",
        "colab": {
          "base_uri": "https://localhost:8080/",
          "height": 269
        },
        "outputId": "6859d5fe-91a9-4a03-9760-f1a247f7fbe2"
      },
      "source": [
        "import matplotlib.pyplot as plt\n",
        "\n",
        "linD1 = np.array([0, 2, 0])\n",
        "linD2 = np.array([0, 1, 0])\n",
        "\n",
        "linI1 = np.array([1, 2])\n",
        "linI2 = np.array([3, 4])\n",
        "\n",
        "\n",
        "plt.xlim(-1,2)          \n",
        "plt.ylim(-1,2)\n",
        "\n",
        "plt.arrow(0, 0, linD1[0], linD1[1], linewidth=3, head_width=.05, head_length=0.05, color ='r')\n",
        "plt.arrow(0, 0, linD2[0], linD2[1], linewidth=3, head_width=.05, head_length=0.05, color ='b')\n",
        "plt.arrow(0, 0, linI1[0], linI1[1], linewidth=3, head_width=.05, head_length=0.05, color ='g')\n",
        "plt.arrow(0, 0, linI2[0], linI2[1], linewidth=3, head_width=.05, head_length=0.05, color ='y')\n",
        "\n",
        "plt.show()"
      ],
      "execution_count": 151,
      "outputs": [
        {
          "output_type": "display_data",
          "data": {
            "image/png": "[encoded data removed]",
            "text/plain": [
              "<Figure size 432x288 with 1 Axes>"
            ]
          },
          "metadata": {
            "tags": []
          }
        }
      ]
    },
    {
      "cell_type": "markdown",
      "metadata": {
        "id": "TrJ0MT_n3SvO",
        "colab_type": "text"
      },
      "source": [
        "# Span"
      ]
    },
    {
      "cell_type": "markdown",
      "metadata": {
        "id": "86iXLzwM2z8l",
        "colab_type": "text"
      },
      "source": [
        "## 5.1 What is the span of the following vectors?\n",
        "\n",
        "\\begin{align}\n",
        "g = \\begin{bmatrix} 1 & 2 \\end{bmatrix}\n",
        "\\qquad\n",
        "h = \\begin{bmatrix} 4 & 8 \\end{bmatrix}\n",
        "\\end{align}"
      ]
    },
    {
      "cell_type": "code",
      "metadata": {
        "id": "G2LK2RWL39Q4",
        "colab_type": "code",
        "colab": {}
      },
      "source": [
        ""
      ],
      "execution_count": 0,
      "outputs": []
    },
    {
      "cell_type": "markdown",
      "metadata": {
        "id": "l1deylUj4IHH",
        "colab_type": "text"
      },
      "source": [
        "## 5.2 What is the span of $\\{l, m, n\\}$?\n",
        "\n",
        "\\begin{align}\n",
        "l = \\begin{bmatrix} 1 & 2 & 3 \\end{bmatrix}\n",
        "\\qquad\n",
        "m = \\begin{bmatrix} -1 & 0 & 7 \\end{bmatrix}\n",
        "\\qquad\n",
        "n = \\begin{bmatrix} 4 & 8  & 2\\end{bmatrix}\n",
        "\\end{align}"
      ]
    },
    {
      "cell_type": "code",
      "metadata": {
        "id": "p1i_ueD25ZcP",
        "colab_type": "code",
        "colab": {}
      },
      "source": [
        ""
      ],
      "execution_count": 0,
      "outputs": []
    },
    {
      "cell_type": "markdown",
      "metadata": {
        "id": "IBqe7X1732kX",
        "colab_type": "text"
      },
      "source": [
        "# Basis"
      ]
    },
    {
      "cell_type": "markdown",
      "metadata": {
        "id": "YeUZVHRM6PpT",
        "colab_type": "text"
      },
      "source": [
        "## 6.1 Graph two vectors that form a basis for $\\mathbb{R}^2$\n",
        "\n"
      ]
    },
    {
      "cell_type": "code",
      "metadata": {
        "id": "utvF3Pkt8NP6",
        "colab_type": "code",
        "colab": {}
      },
      "source": [
        ""
      ],
      "execution_count": 0,
      "outputs": []
    },
    {
      "cell_type": "markdown",
      "metadata": {
        "id": "20yPFBDUxxnS",
        "colab_type": "text"
      },
      "source": [
        "## 6.2 What does it mean to form a basis?"
      ]
    },
    {
      "cell_type": "markdown",
      "metadata": {
        "id": "3w4tEayT8M0o",
        "colab_type": "text"
      },
      "source": [
        ""
      ]
    },
    {
      "cell_type": "markdown",
      "metadata": {
        "id": "EHmUxbcY6vD3",
        "colab_type": "text"
      },
      "source": [
        "# Rank"
      ]
    },
    {
      "cell_type": "markdown",
      "metadata": {
        "id": "IpJwt9kw6v8U",
        "colab_type": "text"
      },
      "source": [
        "## 7.1 What is the Rank of P?\n",
        "\n",
        "\\begin{align}\n",
        "P = \\begin{bmatrix} \n",
        "1 & 2 & 3 \\\\\n",
        " -1 & 0 & 7 \\\\\n",
        "4 & 8  & 2\n",
        "\\end{bmatrix}\n",
        "\\end{align}"
      ]
    },
    {
      "cell_type": "markdown",
      "metadata": {
        "id": "jGqFMBYY7mHD",
        "colab_type": "text"
      },
      "source": [
        "## 7.2 What does the rank of a matrix tell us?"
      ]
    },
    {
      "cell_type": "markdown",
      "metadata": {
        "id": "Vjg1IiCD8nnP",
        "colab_type": "text"
      },
      "source": [
        ""
      ]
    },
    {
      "cell_type": "markdown",
      "metadata": {
        "id": "0Db2sc_V8QD6",
        "colab_type": "text"
      },
      "source": [
        "# Linear Projections\n",
        "\n",
        "## 8.1 Line $L$ is formed by all of the vectors that can be created by scaling vector $v$ \n",
        "\\begin{align}\n",
        "v = \\begin{bmatrix} 1 & 3 \\end{bmatrix}\n",
        "\\end{align}\n",
        "\n",
        "\\begin{align}\n",
        "w = \\begin{bmatrix} -1 & 2 \\end{bmatrix}\n",
        "\\end{align}\n",
        "\n",
        "## find $proj_{L}(w)$\n",
        "\n",
        "## graph your projected vector to check your work (make sure your axis are square/even)"
      ]
    },
    {
      "cell_type": "code",
      "metadata": {
        "id": "hp5z2WTBCNKx",
        "colab_type": "code",
        "colab": {}
      },
      "source": [
        ""
      ],
      "execution_count": 0,
      "outputs": []
    },
    {
      "cell_type": "markdown",
      "metadata": {
        "id": "TKkrPwRM-Oar",
        "colab_type": "text"
      },
      "source": [
        "# Stretch Goal\n",
        "\n",
        "## For vectors that begin at the origin, the coordinates of where the vector ends can be interpreted as regular data points. (See 3Blue1Brown videos about Spans, Basis, etc.)\n",
        "\n",
        "## Write a function that can calculate the linear projection of each point (x,y) (vector) onto the line y=x. run the function and plot the original points in blue and the new projected points on the line y=x in red. \n",
        "\n",
        "## For extra points plot the orthogonal vectors as a dashed line from the original blue points to the projected red points."
      ]
    },
    {
      "cell_type": "code",
      "metadata": {
        "id": "cp52kZra-ykj",
        "colab_type": "code",
        "outputId": "12502200-eafe-4e20-bfb7-2d539c6027cb",
        "colab": {
          "base_uri": "https://localhost:8080/",
          "height": 347
        }
      },
      "source": [
        "import pandas as pd\n",
        "import matplotlib.pyplot as plt\n",
        "\n",
        "# Creating a dataframe for you to work with -Feel free to not use the dataframe if you don't want to.\n",
        "x_values = [1, 4, 7, 3, 9, 4, 5 ]\n",
        "y_values = [4, 2, 5, 0, 8, 2, 8]\n",
        "\n",
        "data = {\"x\": x_values, \"y\": y_values}\n",
        "\n",
        "df = pd.DataFrame(data)\n",
        "\n",
        "df.head()\n",
        "\n",
        "plt.scatter(df.x, df.y)\n",
        "plt.show()"
      ],
      "execution_count": 0,
      "outputs": [
        {
          "output_type": "display_data",
          "data": {
            "image/png": "[encoded data removed]",
            "text/plain": [
              "<matplotlib.figure.Figure at 0x7f787cfb2978>"
            ]
          },
          "metadata": {
            "tags": []
          }
        }
      ]
    },
    {
      "cell_type": "code",
      "metadata": {
        "id": "EZTA6Tj6BGDb",
        "colab_type": "code",
        "colab": {}
      },
      "source": [
        ""
      ],
      "execution_count": 0,
      "outputs": []
    }
  ]
}